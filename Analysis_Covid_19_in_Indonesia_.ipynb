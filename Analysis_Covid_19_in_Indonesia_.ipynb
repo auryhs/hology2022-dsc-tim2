{
  "cells": [
    {
      "cell_type": "markdown",
      "metadata": {
        "id": "DTaIzyLFITSn"
      },
      "source": [
        "**Import Libraries**"
      ]
    },
    {
      "cell_type": "code",
      "execution_count": null,
      "metadata": {
        "id": "EgcGZm0mVWVw"
      },
      "outputs": [],
      "source": [
        "import pandas as pd\n",
        "import matplotlib.pyplot as plt\n",
        "import seaborn as sns\n",
        "import plotly.express as px\n",
        "import datetime\n",
        "import scipy.stats as stat\n",
        "import numpy as np\n",
        "import plotly.graph_objs as go\n",
        "import plotly"
      ]
    },
    {
      "cell_type": "markdown",
      "metadata": {
        "id": "6Wu3oGDNITSy"
      },
      "source": [
        "**Read Dataset**"
      ]
    },
    {
      "cell_type": "code",
      "execution_count": null,
      "metadata": {
        "id": "e6pQdHyUiGdN"
      },
      "outputs": [],
      "source": [
        "url = 'https://drive.google.com/file/d/1kSwh_sTFn2yINnkcv485lmB73n8H_JJB/view?usp=sharing'\n",
        "url= 'https://drive.google.com/uc?id=' + url.split('/')[-2]\n",
        "dt_covid = pd.read_csv(url)"
      ]
    },
    {
      "cell_type": "markdown",
      "metadata": {
        "id": "bFkXjTYjITS0"
      },
      "source": [
        "**Handling check error dataset**"
      ]
    },
    {
      "cell_type": "code",
      "execution_count": null,
      "metadata": {
        "id": "UFVk-9eHZpqj"
      },
      "outputs": [],
      "source": [
        "try: \n",
        "  dt_covid = pd.read_csv(url)\n",
        "except:\n",
        "  print('Dataset fail to load') "
      ]
    },
    {
      "cell_type": "markdown",
      "metadata": {
        "id": "yTUSzZcGITS2"
      },
      "source": [
        "**Added month and year column**"
      ]
    },
    {
      "cell_type": "code",
      "execution_count": null,
      "metadata": {
        "id": "SnP-tgNizBoE"
      },
      "outputs": [],
      "source": [
        "dt_covid['dt_month'] = dt_covid['date'].apply(lambda x: datetime.datetime.strptime(x, \"%m/%d/%Y\").strftime('%m'))\n",
        "dt_covid['dt_year'] = dt_covid['date'].apply(lambda x: datetime.datetime.strptime(x, \"%m/%d/%Y\").strftime('%Y'))"
      ]
    },
    {
      "cell_type": "markdown",
      "metadata": {
        "id": "-sB6-YXdITS2"
      },
      "source": [
        "Sorting covid data in Indonesia"
      ]
    },
    {
      "cell_type": "code",
      "execution_count": null,
      "metadata": {
        "id": "Eb2Z6fdDnCoy"
      },
      "outputs": [],
      "source": [
        "dtind = dt_covid[dt_covid['location']=='Indonesia']"
      ]
    },
    {
      "cell_type": "markdown",
      "metadata": {
        "id": "3G-O3knOJdXE"
      },
      "source": [
        "**Visualization**"
      ]
    },
    {
      "cell_type": "markdown",
      "metadata": {
        "id": "1CL7320CITS3"
      },
      "source": [
        "Line chart visualization of total Covid cases and vaccines in Indonesia per month"
      ]
    },
    {
      "cell_type": "code",
      "execution_count": null,
      "metadata": {
        "colab": {
          "base_uri": "https://localhost:8080/",
          "height": 582
        },
        "id": "kDFY_Iazy-5J",
        "outputId": "d6c1b137-110d-4049-a648-5abdecb224a5"
      },
      "outputs": [],
      "source": [
        "plt.figure(figsize = (500,200))\n",
        "case_month = dtind.groupby(['dt_year', 'dt_month'])['total_cases'].sum()\n",
        "vacc = dtind.groupby(['dt_year', 'dt_month'])['people_vaccinated'].sum()\n",
        "casemonth = pd.DataFrame(case_month)\n",
        "vaccmonth = pd.DataFrame(vacc)\n",
        "casemonth.plot()\n",
        "vaccmonth.plot()\n",
        "plt.show()"
      ]
    },
    {
      "cell_type": "markdown",
      "metadata": {
        "id": "-qHmvGYwITS4"
      },
      "source": [
        "Sorting covid data in Southeast Asia"
      ]
    },
    {
      "cell_type": "code",
      "execution_count": null,
      "metadata": {
        "id": "Q1nacu0x5VaX"
      },
      "outputs": [],
      "source": [
        "dt_covid.loc[dt_covid['iso_code']=='IDN', 'continent'] = 'Southeast Asia'\n",
        "dt_covid.loc[dt_covid['iso_code']=='IDN', 'continent'] = 'Southeast Asia'\n",
        "dt_covid.loc[dt_covid['iso_code']=='KHM', 'continent'] = 'Southeast Asia'\n",
        "dt_covid.loc[dt_covid['iso_code']=='MYS', 'continent'] = 'Southeast Asia'\n",
        "dt_covid.loc[dt_covid['iso_code']=='SGP', 'continent'] = 'Southeast Asia'\n",
        "dt_covid.loc[dt_covid['iso_code']=='THA', 'continent'] = 'Southeast Asia'\n",
        "dt_covid.loc[dt_covid['iso_code']=='PHL', 'continent'] = 'Southeast Asia'\n",
        "dt_covid.loc[dt_covid['iso_code']=='BRN', 'continent'] = 'Southeast Asia'\n",
        "dt_covid.loc[dt_covid['iso_code']=='LAO', 'continent'] = 'Southeast Asia'\n",
        "dt_covid.loc[dt_covid['iso_code']=='MMR', 'continent'] = 'Southeast Asia'\n",
        "dt_covid.loc[dt_covid['iso_code']=='VNM', 'continent'] = 'Southeast Asia'"
      ]
    },
    {
      "cell_type": "markdown",
      "metadata": {
        "id": "sAbimfLhITS5"
      },
      "source": [
        "Make a breakdown of total cases, total deaths, number of vaccinations and number of people aged 65 and over in Southeast Asia based on new cases of covid"
      ]
    },
    {
      "cell_type": "code",
      "execution_count": null,
      "metadata": {
        "colab": {
          "base_uri": "https://localhost:8080/",
          "height": 363
        },
        "id": "dRM5A3PC40PP",
        "outputId": "2a4bfb14-0717-4310-b466-fed82c454619"
      },
      "outputs": [],
      "source": [
        "dtSA = dt_covid[dt_covid['continent']=='Southeast Asia']\n",
        "tcsa = dtSA.groupby('location')['new_cases'].sum().reset_index()\n",
        "tcsa = dtSA.groupby('location')['new_cases'].sum().reset_index()\n",
        "td = dtSA.groupby('location')['new_deaths'].sum().reset_index()\n",
        "sa = pd.merge(left=tcsa, right=td, how='right', left_on='location', right_on='location')\n",
        "sa = sa.rename(columns={'new_cases': 'total_cases', 'new_deaths':'total_deaths'})\n",
        "vacc = dtSA.groupby('location')['people_vaccinated'].mean().reset_index()\n",
        "sa = pd.merge(left=sa, right=vacc, how='right', left_on='location', right_on='location')\n",
        "aged = dtSA.groupby('location')['aged_65_older'].mean().reset_index()\n",
        "sa = pd.merge(left=sa, right=aged, how='right', left_on='location', right_on='location')\n",
        "sa"
      ]
    },
    {
      "cell_type": "markdown",
      "metadata": {
        "id": "geyc6RSHJsX_"
      },
      "source": [
        "**Visualization**"
      ]
    },
    {
      "cell_type": "markdown",
      "metadata": {
        "id": "S3X0J7S1ITTA"
      },
      "source": [
        "Visualization barplot people aged 65 and over by location"
      ]
    },
    {
      "cell_type": "code",
      "execution_count": null,
      "metadata": {
        "colab": {
          "base_uri": "https://localhost:8080/",
          "height": 297
        },
        "id": "7av_IDhTS2cd",
        "outputId": "9b926aa0-36d4-43c2-9c1b-8ae9e814793d"
      },
      "outputs": [],
      "source": [
        "sns.set_color_codes('muted')\n",
        "sns.barplot(x='aged_65_older', y='location', data=sa,\n",
        "            label='Total Cases', color='b')"
      ]
    },
    {
      "cell_type": "markdown",
      "metadata": {
        "id": "iwJRd5UvJxO-"
      },
      "source": [
        "**Visualization**"
      ]
    },
    {
      "cell_type": "markdown",
      "metadata": {
        "id": "tinnE90dITTB"
      },
      "source": [
        "Visualization bar plot of the total COVID-19 Cases and Deaths in Southeast Asia"
      ]
    },
    {
      "cell_type": "code",
      "execution_count": null,
      "metadata": {
        "colab": {
          "base_uri": "https://localhost:8080/",
          "height": 611
        },
        "id": "wCiYSyDu5cp4",
        "outputId": "7c84f432-e93f-433e-df01-8e0d464f165b"
      },
      "outputs": [],
      "source": [
        "sns.set_theme(style='whitegrid')\n",
        "\n",
        "f, ax = plt.subplots(figsize=(18, 10))\n",
        "\n",
        "sa = sa.sort_values('total_cases', ascending=False)\n",
        "\n",
        "sns.set_color_codes('muted')\n",
        "sns.barplot(x='total_cases', y='location', data=sa,\n",
        "            label='Total Cases', color='b')\n",
        "\n",
        "sns.set_color_codes('muted')\n",
        "sns.barplot(x='total_deaths', y='location', data=sa,\n",
        "            label='Total Deaths', color='r')\n",
        "\n",
        "ax.legend(ncol=2, loc='lower right', frameon=True)\n",
        "ax.set(ylabel='',\n",
        "       xlabel='Total Kasus & Kematian COVID 19 di Asia Tenggara')\n",
        "sns.despine(left=True, bottom=True)"
      ]
    },
    {
      "cell_type": "markdown",
      "metadata": {
        "id": "krjq-UXgJ1XS"
      },
      "source": [
        "**Visualization**"
      ]
    },
    {
      "cell_type": "markdown",
      "metadata": {
        "id": "1P7d_0GrITTD"
      },
      "source": [
        "Visualization of the recap of the total population, total cases, total deaths, total vaccine 1, total_full_vaccine and people aged 65 and over in indonesia using a pie chart"
      ]
    },
    {
      "cell_type": "code",
      "execution_count": null,
      "metadata": {
        "colab": {
          "base_uri": "https://localhost:8080/",
          "height": 517
        },
        "id": "6y62nf4-521F",
        "outputId": "3d9781d6-a3e3-4557-99fc-320935bef40d"
      },
      "outputs": [],
      "source": [
        "dtind_td = dtind['new_deaths'].sum()\n",
        "dtind_tc = dtind['new_cases'].sum()\n",
        "dtind_pop = dtind['population'].mean()\n",
        "dtind_vac = dtind['people_vaccinated'].max()\n",
        "dtind_fullvacc= dtind['people_fully_vaccinated'].max()\n",
        "agedid = (dtind['aged_65_older'].max() * dtind['population'].max())/100\n",
        "\n",
        "fig = plotly.subplots.make_subplots(rows=3, cols=3, specs=[[{'type':'domain'}, {'type':'domain'}, {'type':'domain'}],[{'type':'domain'}, {'type':'domain'}, {'type':'domain'}],[{'type':'domain'}, {'type':'domain'}, {'type':'domain'}]])\n",
        "fig.add_trace(go.Pie(labels=['total_cases', 'populasi'], values=[dtind_tc,dtind_pop]),\n",
        "              1, 1)\n",
        "fig.add_trace(go.Pie(labels=['total_deaths', 'populasi'], values=[dtind_td,dtind_pop]),\n",
        "              1, 2)\n",
        "fig.add_trace(go.Pie(labels=['total_vaksin1', 'populasi'], values=[dtind_vac,dtind_pop]),\n",
        "              2, 1)\n",
        "fig.add_trace(go.Pie(labels=['total_full_vaksin', 'populasi'], values=[dtind_fullvacc,dtind_pop]), \n",
        "              2, 2)\n",
        "fig.add_trace(go.Pie(labels=['ageid', 'populasi'], values=[agedid,dtind_pop]), \n",
        "              3, 1)\n",
        "fig.update_traces(hole=.4, hoverinfo=\"label+percent+name\")\n",
        "\n",
        "fig.update_layout(autosize=False, height = 500, width = 700, title_text=\"Recap Indonesia's Covid Condition\",\n",
        "    annotations=[dict(text='Cases', x=0.09, y=0.73, font_size=12, showarrow=False),\n",
        "                 dict(text='Deaths', x=0.5, y=0.73, font_size=12, showarrow=False),\n",
        "                 dict(text='Total Vaksin 1', x=0.05, y=0.31, font_size=12, showarrow=False),\n",
        "                 dict(text='Total Full Vaksin', x=0.5, y=0.31, font_size=12, showarrow=False),\n",
        "                  dict(text='Total Umur > 65', x=0.05, y=-0.07, font_size=12, showarrow=False)])\n",
        "\n",
        "fig.show()"
      ]
    },
    {
      "cell_type": "markdown",
      "metadata": {
        "id": "K31wr5e3ITTE"
      },
      "source": [
        "Combining data on average people aged 65 and over and new cases of covid by location"
      ]
    },
    {
      "cell_type": "code",
      "execution_count": null,
      "metadata": {
        "id": "jrPFBJ9xDn_m"
      },
      "outputs": [],
      "source": [
        "oldage_all = dt_covid.groupby('location')['aged_65_older'].mean().reset_index()\n",
        "tdeathsall = dt_covid.groupby('location')['new_deaths'].sum().reset_index()\n",
        "agetdall = pd.merge(left=oldage_all, right=tdeathsall, how='right', left_on='location', right_on='location')\n",
        "agetdall = agetdall.dropna()\n",
        "agetdall = agetdall.rename(columns={ 'new_deaths':'total_deaths'})"
      ]
    },
    {
      "cell_type": "markdown",
      "metadata": {
        "id": "YrNAhMXmJ-Z0"
      },
      "source": [
        "**Visualization**"
      ]
    },
    {
      "cell_type": "markdown",
      "metadata": {
        "id": "UXytjlotITTF"
      },
      "source": [
        "Visualization boxplot combining data on average people aged 65 and over and new cases of covid by location"
      ]
    },
    {
      "cell_type": "code",
      "execution_count": null,
      "metadata": {
        "colab": {
          "base_uri": "https://localhost:8080/",
          "height": 420
        },
        "id": "x-ZSpYc_FR89",
        "outputId": "f09d7fa9-818b-4eda-da6b-646890245fe8"
      },
      "outputs": [],
      "source": [
        "plt.boxplot(agetdall['total_deaths'], vert=False)"
      ]
    },
    {
      "cell_type": "markdown",
      "metadata": {
        "id": "YFIyJamgITTG"
      },
      "source": [
        "Identification of outlier data in combining the average data of people aged 65 years and over and new cases of covid based on location"
      ]
    },
    {
      "cell_type": "code",
      "execution_count": null,
      "metadata": {
        "colab": {
          "base_uri": "https://localhost:8080/"
        },
        "id": "xZmmXCGWFkij",
        "outputId": "fc861ac6-0a26-4c8e-b041-47d2f155b5ea"
      },
      "outputs": [],
      "source": [
        "outliers = []\n",
        "def detect_outliers_zscore(data):\n",
        "    thres = 3\n",
        "    mean = np.mean(data)\n",
        "    std = np.std(data)\n",
        "    for i in data:\n",
        "        z_score = (i-mean)/std\n",
        "        if (np.abs(z_score) > thres):\n",
        "            outliers.append(i)\n",
        "    return outliers\n",
        "  \n",
        "sample_outliers = detect_outliers_zscore(agetdall.total_deaths)\n",
        "agetdall = agetdall[~agetdall.total_deaths.isin(sample_outliers)]\n",
        "print(sample_outliers)"
      ]
    },
    {
      "cell_type": "markdown",
      "metadata": {
        "id": "LPRwXKwTITTH"
      },
      "source": [
        "Visualization of data on total deaths of people aged 65 and over with a scatter plot"
      ]
    },
    {
      "cell_type": "code",
      "execution_count": null,
      "metadata": {
        "colab": {
          "base_uri": "https://localhost:8080/",
          "height": 417
        },
        "id": "RZtmOmQfFuVm",
        "outputId": "56795af7-a4d7-4250-f028-693fc5c0dced"
      },
      "outputs": [],
      "source": [
        "fig = px.scatter(agetdall, x='aged_65_older', y='total_deaths', width=500, height=400)\n",
        "\n",
        "fig.update_layout(\n",
        "    margin=dict(l=20, r=20, t=20, b=20),\n",
        "    paper_bgcolor=\"LightSteelBlue\",\n",
        ")\n",
        "\n",
        "fig.show()"
      ]
    },
    {
      "cell_type": "markdown",
      "metadata": {
        "id": "sfrCO9ERITTI"
      },
      "source": [
        "Data exploration"
      ]
    },
    {
      "cell_type": "code",
      "execution_count": null,
      "metadata": {
        "colab": {
          "base_uri": "https://localhost:8080/"
        },
        "id": "gJZdU0AiSHES",
        "outputId": "1a2535b6-8d82-4113-daf3-32417d6fb8b5"
      },
      "outputs": [],
      "source": [
        "dt_covid['continent'].isnull().sum()"
      ]
    },
    {
      "cell_type": "code",
      "execution_count": null,
      "metadata": {
        "colab": {
          "base_uri": "https://localhost:8080/"
        },
        "id": "2m87ElzASUHF",
        "outputId": "90df7fad-5f96-4770-fea0-af8a02df1507"
      },
      "outputs": [],
      "source": [
        "dt_covid['continent'].unique()"
      ]
    },
    {
      "cell_type": "code",
      "execution_count": null,
      "metadata": {
        "colab": {
          "base_uri": "https://localhost:8080/"
        },
        "id": "9GRM-amgSY0l",
        "outputId": "72a8b590-6d24-45e1-e131-df12f33f9fd3"
      },
      "outputs": [],
      "source": [
        "d1= dt_covid[dt_covid['continent'].isna()]\n",
        "loc_nan = d1['location'].unique()\n",
        "loc_nan"
      ]
    },
    {
      "cell_type": "markdown",
      "metadata": {
        "id": "c-C5I_MjITTJ"
      },
      "source": [
        "**Handle missing value continent on covid data**"
      ]
    },
    {
      "cell_type": "code",
      "execution_count": null,
      "metadata": {
        "id": "CbjFBZ0nSfC9"
      },
      "outputs": [],
      "source": [
        "mask1  = (dt_covid['location']=='Africa')\n",
        "dt_covid.loc[mask1, 'continent'] = dt_covid.loc[mask1, 'continent'].fillna('Africa')\n",
        "mask2  = (dt_covid['location']=='Asia')\n",
        "dt_covid.loc[mask2, 'continent'] = dt_covid.loc[mask2, 'continent'].fillna('Asia')\n",
        "mask3  = (dt_covid['location']=='Europe')\n",
        "dt_covid.loc[mask3, 'continent'] = dt_covid.loc[mask3, 'continent'].fillna('Europe')\n",
        "mask4  = (dt_covid['location']=='World')\n",
        "dt_covid.loc[mask4, 'continent'] = dt_covid.loc[mask4, 'continent'].fillna('World')\n",
        "mask5  = (dt_covid['location']=='Oceania')\n",
        "dt_covid.loc[mask5, 'continent'] = dt_covid.loc[mask5, 'continent'].fillna('Ocenia')\n",
        "mask6  = (dt_covid['location']=='International')\n",
        "dt_covid.loc[mask6, 'continent'] = dt_covid.loc[mask6, 'continent'].fillna('International')\n",
        "mask7  = (dt_covid['location']=='South America')\n",
        "dt_covid.loc[mask7, 'continent'] = dt_covid.loc[mask7, 'continent'].fillna('South America')\n",
        "mask8  = (dt_covid['location']=='North America')\n",
        "dt_covid.loc[mask8, 'continent'] = dt_covid.loc[mask8, 'continent'].fillna('North America')\n",
        "mask9  = (dt_covid['location']=='European Union')\n",
        "dt_covid.loc[mask9, 'continent'] = dt_covid.loc[mask9, 'continent'].fillna('European Union')\n",
        "mask10  = dt_covid['location'].str.contains('income')\n",
        "dt_covid.loc[mask10, 'continent'] = dt_covid.loc[mask10, 'continent'].fillna('Income')"
      ]
    },
    {
      "cell_type": "markdown",
      "metadata": {
        "id": "w5qojMW-ITTK"
      },
      "source": [
        "Percentage of total deaths from total cases in countries with continental income"
      ]
    },
    {
      "cell_type": "code",
      "execution_count": null,
      "metadata": {
        "id": "cSOESy4SSivJ"
      },
      "outputs": [],
      "source": [
        "dt_covid[dt_covid['continent']=='Income']['location'].value_counts()\n",
        "inc = dt_covid[dt_covid['continent']=='Income']\n",
        "inc_d = inc.groupby('location')['new_deaths'].sum().reset_index()\n",
        "inc_c = inc.groupby('location')['new_cases'].sum().reset_index()\n",
        "inc = pd.merge(left=inc_d, right=inc_c, how='right', left_on='location', right_on='location')"
      ]
    },
    {
      "cell_type": "code",
      "execution_count": null,
      "metadata": {
        "colab": {
          "base_uri": "https://localhost:8080/",
          "height": 175
        },
        "id": "HRK8XUjSUZSg",
        "outputId": "8b8d491b-7b3b-4567-ea4a-7abc4957d3e0"
      },
      "outputs": [],
      "source": [
        "inc"
      ]
    },
    {
      "cell_type": "code",
      "execution_count": null,
      "metadata": {
        "colab": {
          "base_uri": "https://localhost:8080/"
        },
        "id": "CCqwNUuxUbH0",
        "outputId": "ec3aef4c-020f-4d95-f657-c15aad645406"
      },
      "outputs": [],
      "source": [
        "for i in inc['location'] :\n",
        "  cperd = inc[inc['location']==i]['new_deaths']/inc[inc['location']==i]['new_cases']\n",
        "  print(i)\n",
        "  print(cperd)"
      ]
    },
    {
      "cell_type": "code",
      "execution_count": null,
      "metadata": {
        "id": "QGwYoSHcUgG-"
      },
      "outputs": [],
      "source": [
        "perc = [0.006984, 0.021236, 0.013897, 0.018025]\n",
        "inc['percentage'] = perc"
      ]
    },
    {
      "cell_type": "markdown",
      "metadata": {
        "id": "iLyqqwv8KURC"
      },
      "source": [
        "**Visualization**"
      ]
    },
    {
      "cell_type": "markdown",
      "metadata": {
        "id": "zdKBmmV2KWWg"
      },
      "source": [
        "Visualization percentage of total deaths from total cases in countries with continental income"
      ]
    },
    {
      "cell_type": "code",
      "execution_count": null,
      "metadata": {
        "colab": {
          "base_uri": "https://localhost:8080/",
          "height": 542
        },
        "id": "bd2zXSk8UxUY",
        "outputId": "7036a34e-7877-49a7-ab4a-4c46d4215f21"
      },
      "outputs": [],
      "source": [
        "fig = px.bar(inc, x='location', y='percentage')\n",
        "fig.show()"
      ]
    }
  ],
  "metadata": {
    "colab": {
      "collapsed_sections": [],
      "provenance": []
    },
    "kernelspec": {
      "display_name": "Python 3.10.7 64-bit",
      "language": "python",
      "name": "python3"
    },
    "language_info": {
      "codemirror_mode": {
        "name": "ipython",
        "version": 3
      },
      "file_extension": ".py",
      "mimetype": "text/x-python",
      "name": "python",
      "nbconvert_exporter": "python",
      "pygments_lexer": "ipython3",
      "version": "3.10.7"
    },
    "vscode": {
      "interpreter": {
        "hash": "71bf86b989f5ba294a64eaed683af99f1aa8bcbdb86e5c612c515081ff0dfdae"
      }
    }
  },
  "nbformat": 4,
  "nbformat_minor": 0
}
